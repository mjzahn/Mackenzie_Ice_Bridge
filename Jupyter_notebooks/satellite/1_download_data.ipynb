{
 "cells": [
  {
   "cell_type": "markdown",
   "id": "c93c4af7-7bc4-430b-b796-67e958ed43fa",
   "metadata": {},
   "source": [
    "# Download remote sensing data for SIC, SSS, and SST"
   ]
  },
  {
   "cell_type": "markdown",
   "id": "0a758998-8998-4c7b-895e-f4d640d303b1",
   "metadata": {},
   "source": [
    "## SIC | NOAA/NSIDC Climate Data Record of Passive Microwave Sea Ice Concentration, Version 5"
   ]
  },
  {
   "cell_type": "markdown",
   "id": "eab27927-d0eb-4a17-a080-952b4c21c45d",
   "metadata": {},
   "source": [
    "Data is sourced from the NSIDC Climate Data Record: https://nsidc.org/data/g02202/versions/5#anchor-data-access-tools<br>\n",
    "\n",
    "Ancillary data files are found at: https://noaadata.apps.nsidc.org/NOAA/G02202_V5/ancillary/"
   ]
  },
  {
   "cell_type": "markdown",
   "id": "1b891f05-8b1a-4ec4-aba9-6887c1fe9752",
   "metadata": {},
   "source": [
    "To download a single file, run:\n",
    "\n",
    "``\n",
    "wget -nd --no-check-certificate --reject \"index.html*\" -np -e robots=off https://noaadata.apps.nsidc.org/NOAA/G02202_V5/north/daily/2016/sic_psn25_20161025_F17_v05r00.nc \n",
    "``"
   ]
  },
  {
   "cell_type": "markdown",
   "id": "4134af7e-0e38-4910-aecb-aa1605777bcf",
   "metadata": {},
   "source": [
    "If you want to download many files, create a txt file with a list of the files you want and then run: <br>\n",
    "`wget -nc -nd --no-check-certificate --reject \"index.html*\" -np -e robots=off -i sic_file_list.txt -P /path/to/your/download_dir/`"
   ]
  },
  {
   "cell_type": "markdown",
   "id": "d1693cee-db39-4315-85f0-254190c4ce4c",
   "metadata": {},
   "source": [
    "Here is an example:<br>\n",
    "``wget -nc -nd --no-check-certificate --reject \"index.html*\" -np -e robots=off -i sic_file_list.txt -P /home/jpluser/efs-mount-point/mzahn/satellite_data/sic_nsidc_cdr/``"
   ]
  },
  {
   "cell_type": "markdown",
   "id": "1ad6a53c-3aca-4ecb-ab4f-8b74e4efb82f",
   "metadata": {},
   "source": [
    "Here is an exmaple script to generate a text file with a list of netcdf files for Sept-Dec between 2014-2022:<br>\n",
    "```\n",
    "#!/bin/bash\n",
    "\n",
    "# Output file for the list of URLs\n",
    "LIST=\"sic_file_list.txt\"\n",
    "> \"$LIST\"\n",
    "\n",
    "# Loop through years and months\n",
    "for YEAR in {2014..2024}; do\n",
    "  for MONTH in 09 10 11 12; do\n",
    "    # Generate days for this month\n",
    "    for DAY in $(seq -w 1 31); do\n",
    "      # Use GNU date to validate the date\n",
    "      if date -d \"$YEAR-$MONTH-$DAY\" >/dev/null 2>&1; then\n",
    "        DATE=\"${YEAR}${MONTH}${DAY}\"\n",
    "        FILE=\"sic_psn25_${DATE}_F17_v05r00.nc\"\n",
    "        echo \"https://noaadata.apps.nsidc.org/NOAA/G02202_V5/north/daily/${YEAR}/${FILE}\" >> \"$LIST\"\n",
    "      fi\n",
    "    done\n",
    "  done\n",
    "done\n",
    "\n",
    "```"
   ]
  },
  {
   "cell_type": "markdown",
   "id": "6ca210ef-8c72-4b2a-add1-b5954cc4e830",
   "metadata": {},
   "source": [
    "## SSS | RSS SMAP Level 3 Sea Surface Salinity Standard Mapped Image 8-Day Running Mean V6.0"
   ]
  },
  {
   "cell_type": "markdown",
   "id": "3f929618-8ebd-4d7a-afce-70963a2305c9",
   "metadata": {},
   "source": [
    "Data from SMAP: https://podaac.jpl.nasa.gov/dataset/SMAP_RSS_L3_SSS_SMI_8DAY-RUNNINGMEAN_V6"
   ]
  },
  {
   "cell_type": "markdown",
   "id": "07af8802-6285-424b-8174-889b41a0536f",
   "metadata": {},
   "source": [
    "Make sure you have the PODAAC data download package installed:<br>\n",
    "`pip install podaac-data-subscriber`"
   ]
  },
  {
   "cell_type": "markdown",
   "id": "7a323400-e788-446c-8c0a-4040d5437fdf",
   "metadata": {},
   "source": [
    "Then navigate to the directory you want the data saved and run:"
   ]
  },
  {
   "cell_type": "markdown",
   "id": "05bc0d0c-e23e-4a60-90f3-a5df372bae8e",
   "metadata": {},
   "source": [
    "`podaac-data-downloader -c SMAP_RSS_L3_SSS_SMI_8DAY-RUNNINGMEAN_V6 -d ./data --start-date 2015-03-27T12:00:00Z --end-date 2024-12-31T12:00:00Z -b=\"-180,60,-100,90\"`"
   ]
  },
  {
   "cell_type": "markdown",
   "id": "3a8c5ad7-7957-4ec3-8db8-2083d09e8d22",
   "metadata": {},
   "source": [
    "## SST | Optimum Interpolation Sea Surface Temperature (OISST)"
   ]
  },
  {
   "cell_type": "markdown",
   "id": "d429ac2d-aa5f-437f-b5f5-4f954b541ea9",
   "metadata": {},
   "source": [
    "Data from NOAA OISST: https://www.ncei.noaa.gov/products/optimum-interpolation-sst"
   ]
  },
  {
   "cell_type": "markdown",
   "id": "0060c4cd-e98c-48c6-82a8-115d03204a1c",
   "metadata": {},
   "source": [
    "Like the SIC data above, we will use wget. First create a text file of all the filenames:<br>\n",
    "```\n",
    "#!/bin/bash\n",
    "\n",
    "# Output list of URLs\n",
    "LIST=\"oisst_file_list.txt\"\n",
    "> \"$LIST\"\n",
    "\n",
    "# Base URL\n",
    "BASE_URL=\"https://www.ncei.noaa.gov/data/sea-surface-temperature-optimum-interpolation/v2.1/access/avhrr\"\n",
    "\n",
    "# Loop over years and months\n",
    "for YEAR in {2014..2024}; do\n",
    "  for MONTH in 09 10 11 12; do\n",
    "    # Get days in month (accounts for leap years)\n",
    "    for DAY in $(seq -w 1 31); do\n",
    "      if date -d \"$YEAR-$MONTH-$DAY\" >/dev/null 2>&1; then\n",
    "        DATE=\"${YEAR}${MONTH}${DAY}\"\n",
    "        FILE=\"oisst-avhrr-v02r01.${DATE}.nc\"\n",
    "        URL=\"${BASE_URL}/${YEAR}${MONTH}/${FILE}\"\n",
    "        echo \"$URL\" >> \"$LIST\"\n",
    "      fi\n",
    "    done\n",
    "  done\n",
    "done\n",
    "```"
   ]
  },
  {
   "cell_type": "markdown",
   "id": "edcf8fcc-0978-4649-bfd5-ed4ca3d8af93",
   "metadata": {},
   "source": [
    "Then run this:<br>\n",
    "`wget -nc -nd --no-check-certificate --reject \"index.html*\" -np -i oisst_file_list.txt -P /home/jpluser/efs-mount-point/mzahn/satellite_data/sst_noaa_oisst/`"
   ]
  },
  {
   "cell_type": "code",
   "execution_count": null,
   "id": "29dd6366-3b2a-4cc7-a92c-0ee9f0c6566f",
   "metadata": {},
   "outputs": [],
   "source": []
  }
 ],
 "metadata": {
  "kernelspec": {
   "display_name": "Python 3 (ipykernel)",
   "language": "python",
   "name": "python3"
  },
  "language_info": {
   "codemirror_mode": {
    "name": "ipython",
    "version": 3
   },
   "file_extension": ".py",
   "mimetype": "text/x-python",
   "name": "python",
   "nbconvert_exporter": "python",
   "pygments_lexer": "ipython3",
   "version": "3.11.8"
  }
 },
 "nbformat": 4,
 "nbformat_minor": 5
}
